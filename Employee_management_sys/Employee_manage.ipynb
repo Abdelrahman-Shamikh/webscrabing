{
 "cells": [
  {
   "cell_type": "code",
   "execution_count": 1,
   "id": "17130219-fbd8-420c-9664-b1ce3eb6ff0b",
   "metadata": {
    "scrolled": true
   },
   "outputs": [],
   "source": [
    "import csv\n",
    "import os\n",
    "import pandas as pd\n",
    "class EmployeeManager:\n",
    "    def __init__(self,file_name):#these are for each company uses our system\n",
    "        self.Employees=[]\n",
    "        self.filename=file_name\n",
    "        self.load_from_csv()#to load existing ones from csv\n",
    "\n",
    "    def takeInt(self, s):\n",
    "        \"\"\"this method ensures input is a number\"\"\"\n",
    "        while True:\n",
    "            try:\n",
    "                return int(input(s)) # ensure number\n",
    "            except:\n",
    "                print(\"invalid input\")\n",
    "\n",
    "    def save_to_csv(self):\n",
    "        \"\"\"this method saves List of Dict in csv file and it overwrites it\"\"\"\n",
    "        with open(self.filename, mode='w', newline='', encoding='utf-8') as f:\n",
    "            writer = csv.DictWriter(f, fieldnames=[\"ID\", \"Name\", \"Position\", \"Salary\", \"Email\"])\n",
    "            writer.writeheader()\n",
    "            writer.writerows(self.Employees)\n",
    "\n",
    "    def load_from_csv(self):\n",
    "        \"\"\"this method reads data from csv file to List\"\"\"\n",
    "        if os.path.exists(self.filename):\n",
    "            with open(self.filename, mode='r', newline='', encoding='utf-8') as f:#to open and close it safely\n",
    "                reader = csv.DictReader(f)\n",
    "                self.Employees = [\n",
    "                    {\n",
    "                        \"ID\": int(row[\"ID\"]),\n",
    "                        \"Name\": row[\"Name\"],\n",
    "                        \"Position\": row[\"Position\"],\n",
    "                        \"Salary\": float(row[\"Salary\"]),\n",
    "                        \"Email\": row[\"Email\"]\n",
    "                    }\n",
    "                    for row in reader\n",
    "                ]\n",
    "        else:\n",
    "            self.Employees = []\n",
    "\n",
    "    def addEmployee(self):\n",
    "        \"\"\"used to add Employee Details\"\"\"\n",
    "        ID = self.takeInt(\"Please Enter Employee id\")\n",
    "        for i in self.Employees:\n",
    "            if i[\"ID\"]==ID:#found that it exists \n",
    "                print(\"ID already exists\")\n",
    "                return\n",
    "        Name = (input(\"Please Enter Employee name\"))\n",
    "        Position = (input(\"Please Enter Employee Position\"))\n",
    "        while True:\n",
    "            try:\n",
    "                Salary = float(input(\"Please Enter Employee Salary\"))#ensure number int because doesn't see fractions in salary often\n",
    "                break\n",
    "            except:\n",
    "                print(\"invalid salary\")\n",
    "        while True:\n",
    "            Email = input(\"Please Enter Employee Email\")\n",
    "            if \"@\" in Email and \".\" in Email: #ensure correct format for any domain com and gmail may be others\n",
    "                break\n",
    "            else:\n",
    "                print(\"Invalid email. Must have @ and .\")\n",
    "        employee={\n",
    "        \"ID\":ID,\n",
    "        \"Name\":Name,\n",
    "        \"Position\":Position,\n",
    "        \"Salary\":Salary,\n",
    "        \"Email\":Email\n",
    "        }\n",
    "        self.Employees.append(employee)#append that employee to others\n",
    "        self.save_to_csv()\n",
    "        print(\"User added Successfully\")\n",
    "\n",
    "    def viewEmployees(self):\n",
    "        \"\"\"this function used toshow employees in List\"\"\"\n",
    "        if not self.Employees:#if nothing in the list that means no employees\n",
    "            print(\"No employees found.\")\n",
    "            return\n",
    "        for i in self.Employees:#showing employees\n",
    "            for k,v in i.items():\n",
    "                print(f\"{k} : {v}\")\n",
    "            print(\"\")\n",
    "\n",
    "    def UpdateEmployee(self):\n",
    "        \"\"\"this function Update Employee based on his id\"\"\"\n",
    "        while True:\n",
    "            try:\n",
    "                ID = self.takeInt(\"Please Enter Employee id\") #ensure number\n",
    "                found=False\n",
    "                for i in self.Employees:\n",
    "                    if i[\"ID\"]==ID:\n",
    "                        Name = (input(\"Please Enter Employee name\"))\n",
    "                        if Name != \"\":#if not empty will change it otherwise will be same\n",
    "                            i[\"Name\"] = Name\n",
    "    \n",
    "                        Position = (input(\"Please Enter Employee Position\"))#if not empty will change it otherwise will be same\n",
    "                        if Position != \"\":\n",
    "                            i[\"Position\"] = Position\n",
    "    \n",
    "                        while True:\n",
    "                            Salary_input = input(\"Please Enter Employee Salary\")#ensure it is a number\n",
    "                            try:\n",
    "                                if Salary_input == \"\":#if empty won't be changed\n",
    "                                    break\n",
    "                                Salary = float(Salary_input)\n",
    "                                i[\"Salary\"]=Salary#changed as not empty\n",
    "                                break\n",
    "                            except:\n",
    "                                print(\"invalid salary\")\n",
    "                        while True:\n",
    "                            Email = input(\"Please Enter Employee Email\")\n",
    "                            if Email == \"\":\n",
    "                                break\n",
    "                            elif \"@\" in Email and \".\" in Email:#ensure correct format for any domain com and gmail may be others\n",
    "                                i[\"Email\"]=Email\n",
    "                                break\n",
    "                            else:\n",
    "                                print(\"Invalid email. Must have @ and .\")\n",
    "                        found=True\n",
    "                        self.save_to_csv()#saves with overwrite\n",
    "                        print(\"User updated Successfully\")\n",
    "                        break\n",
    "                if not found:\n",
    "                    print(\"no such ID\")#the id wasn't found\n",
    "                else:\n",
    "                    break \n",
    "            except:\n",
    "                print(\"invalid input\")\n",
    "            \n",
    "    def DeleteEmployee(self):\n",
    "        \"\"\"this function is used to delete a specific Employee according to its id\"\"\"\n",
    "        ID = self.takeInt(\"Enter ID of Employee to delete\")#ensure id is number\n",
    "        found=False\n",
    "        for index,i in enumerate(self.Employees):\n",
    "            if i[\"ID\"]==ID:\n",
    "                del self.Employees[index]#deletes specific Employee according to index\n",
    "                found=True\n",
    "                break\n",
    "        if not found:\n",
    "            print(\"no such id\")\n",
    "        self.save_to_csv()\n",
    "        if found:\n",
    "            print(\"User Deleted Successfully\")\n",
    "\n",
    "    def SearchEmployee(self):\n",
    "        \"\"\"this function used to search for specific Employee in List of Dict\"\"\"\n",
    "        ID = self.takeInt(\"Enter ID of Employee to Search For\")#ensure number\n",
    "        found=False\n",
    "        for i in self.Employees:\n",
    "            if i[\"ID\"]==ID:#found\n",
    "                print(\"Data of Employee\")\n",
    "                print(\"-----------------------------------------------------------------------------------------\")\n",
    "                print(f\"Name : {i['Name']}\\nPosition : {i['Position']}\\nSalary : {i['Salary']}\\nEmail : {i['Email']}\")\n",
    "                found=True\n",
    "            print(\"\")\n",
    "        if not found:\n",
    "            print(\"No such id\")\n"
   ]
  },
  {
   "cell_type": "code",
   "execution_count": 2,
   "id": "7f4399ec-3562-4ccd-8358-b1c0ae153ab9",
   "metadata": {},
   "outputs": [
    {
     "name": "stdout",
     "output_type": "stream",
     "text": [
      "----------------------Welcome To My Employee Management System------------------------\n",
      "Please Choose one of the Following Options :\n",
      "1. Add Employee\n",
      "2. View All Employees\n",
      "3. Update Employee\n",
      "4. Delete Employee\n",
      "5. Search Employee\n",
      "6. Exit\n"
     ]
    },
    {
     "name": "stdin",
     "output_type": "stream",
     "text": [
      "Your choice:  2\n"
     ]
    },
    {
     "name": "stdout",
     "output_type": "stream",
     "text": [
      "ID : 1\n",
      "Name : Abdelrahman Emad\n",
      "Position : Data Scientist\n",
      "Salary : 30000\n",
      "Email : emadabdelrahman749@gmail.com\n",
      "\n",
      "ID : 2\n",
      "Name : Ahmed\n",
      "Position : IT\n",
      "Salary : 17000\n",
      "Email : Ahmed70@gmail.com\n",
      "\n",
      "ID : 3\n",
      "Name : Mohamed\n",
      "Position : HR\n",
      "Salary : 20000\n",
      "Email : Mohamed@gmail.com\n",
      "\n",
      "Please Choose one of the Following Options :\n",
      "1. Add Employee\n",
      "2. View All Employees\n",
      "3. Update Employee\n",
      "4. Delete Employee\n",
      "5. Search Employee\n",
      "6. Exit\n"
     ]
    },
    {
     "name": "stdin",
     "output_type": "stream",
     "text": [
      "Your choice:  1\n",
      "Please Enter Employee id 4\n",
      "Please Enter Employee name youssef\n",
      "Please Enter Employee Position HR\n",
      "Please Enter Employee Salary 25000\n",
      "Please Enter Employee Email youssef@gmail.com\n"
     ]
    },
    {
     "name": "stdout",
     "output_type": "stream",
     "text": [
      "User added Successfully\n",
      "Please Choose one of the Following Options :\n",
      "1. Add Employee\n",
      "2. View All Employees\n",
      "3. Update Employee\n",
      "4. Delete Employee\n",
      "5. Search Employee\n",
      "6. Exit\n"
     ]
    },
    {
     "name": "stdin",
     "output_type": "stream",
     "text": [
      "Your choice:  3\n",
      "Please Enter Employee id 5\n"
     ]
    },
    {
     "name": "stdout",
     "output_type": "stream",
     "text": [
      "no such ID\n"
     ]
    },
    {
     "name": "stdin",
     "output_type": "stream",
     "text": [
      "Please Enter Employee id \n"
     ]
    },
    {
     "name": "stdout",
     "output_type": "stream",
     "text": [
      "invalid input\n"
     ]
    },
    {
     "name": "stdin",
     "output_type": "stream",
     "text": [
      "Please Enter Employee id 4\n",
      "Please Enter Employee name \n",
      "Please Enter Employee Position \n",
      "Please Enter Employee Salary \n",
      "Please Enter Employee Email \n"
     ]
    },
    {
     "name": "stdout",
     "output_type": "stream",
     "text": [
      "User updated Successfully\n",
      "Please Choose one of the Following Options :\n",
      "1. Add Employee\n",
      "2. View All Employees\n",
      "3. Update Employee\n",
      "4. Delete Employee\n",
      "5. Search Employee\n",
      "6. Exit\n"
     ]
    },
    {
     "name": "stdin",
     "output_type": "stream",
     "text": [
      "Your choice:  4\n",
      "Enter ID of Employee to delete 4\n"
     ]
    },
    {
     "name": "stdout",
     "output_type": "stream",
     "text": [
      "User Deleted Successfully\n",
      "Please Choose one of the Following Options :\n",
      "1. Add Employee\n",
      "2. View All Employees\n",
      "3. Update Employee\n",
      "4. Delete Employee\n",
      "5. Search Employee\n",
      "6. Exit\n"
     ]
    },
    {
     "name": "stdin",
     "output_type": "stream",
     "text": [
      "Your choice:  2\n"
     ]
    },
    {
     "name": "stdout",
     "output_type": "stream",
     "text": [
      "ID : 1\n",
      "Name : Abdelrahman Emad\n",
      "Position : Data Scientist\n",
      "Salary : 30000\n",
      "Email : emadabdelrahman749@gmail.com\n",
      "\n",
      "ID : 2\n",
      "Name : Ahmed\n",
      "Position : IT\n",
      "Salary : 17000\n",
      "Email : Ahmed70@gmail.com\n",
      "\n",
      "ID : 3\n",
      "Name : Mohamed\n",
      "Position : HR\n",
      "Salary : 20000\n",
      "Email : Mohamed@gmail.com\n",
      "\n",
      "Please Choose one of the Following Options :\n",
      "1. Add Employee\n",
      "2. View All Employees\n",
      "3. Update Employee\n",
      "4. Delete Employee\n",
      "5. Search Employee\n",
      "6. Exit\n"
     ]
    },
    {
     "name": "stdin",
     "output_type": "stream",
     "text": [
      "Your choice:  1\n",
      "Please Enter Employee id 4\n",
      "Please Enter Employee name youssef\n",
      "Please Enter Employee Position HR\n",
      "Please Enter Employee Salary 15000\n",
      "Please Enter Employee Email youssef@gmail.com\n"
     ]
    },
    {
     "name": "stdout",
     "output_type": "stream",
     "text": [
      "User added Successfully\n",
      "Please Choose one of the Following Options :\n",
      "1. Add Employee\n",
      "2. View All Employees\n",
      "3. Update Employee\n",
      "4. Delete Employee\n",
      "5. Search Employee\n",
      "6. Exit\n"
     ]
    },
    {
     "name": "stdin",
     "output_type": "stream",
     "text": [
      "Your choice:  2\n"
     ]
    },
    {
     "name": "stdout",
     "output_type": "stream",
     "text": [
      "ID : 1\n",
      "Name : Abdelrahman Emad\n",
      "Position : Data Scientist\n",
      "Salary : 30000\n",
      "Email : emadabdelrahman749@gmail.com\n",
      "\n",
      "ID : 2\n",
      "Name : Ahmed\n",
      "Position : IT\n",
      "Salary : 17000\n",
      "Email : Ahmed70@gmail.com\n",
      "\n",
      "ID : 3\n",
      "Name : Mohamed\n",
      "Position : HR\n",
      "Salary : 20000\n",
      "Email : Mohamed@gmail.com\n",
      "\n",
      "ID : 4\n",
      "Name : youssef\n",
      "Position : HR\n",
      "Salary : 15000\n",
      "Email : youssef@gmail.com\n",
      "\n",
      "Please Choose one of the Following Options :\n",
      "1. Add Employee\n",
      "2. View All Employees\n",
      "3. Update Employee\n",
      "4. Delete Employee\n",
      "5. Search Employee\n",
      "6. Exit\n"
     ]
    },
    {
     "name": "stdin",
     "output_type": "stream",
     "text": [
      "Your choice:  3\n",
      "Please Enter Employee id 4\n",
      "Please Enter Employee name \n",
      "Please Enter Employee Position \n",
      "Please Enter Employee Salary \n",
      "Please Enter Employee Email \n"
     ]
    },
    {
     "name": "stdout",
     "output_type": "stream",
     "text": [
      "User updated Successfully\n",
      "Please Choose one of the Following Options :\n",
      "1. Add Employee\n",
      "2. View All Employees\n",
      "3. Update Employee\n",
      "4. Delete Employee\n",
      "5. Search Employee\n",
      "6. Exit\n"
     ]
    },
    {
     "name": "stdin",
     "output_type": "stream",
     "text": [
      "Your choice:  2\n"
     ]
    },
    {
     "name": "stdout",
     "output_type": "stream",
     "text": [
      "ID : 1\n",
      "Name : Abdelrahman Emad\n",
      "Position : Data Scientist\n",
      "Salary : 30000\n",
      "Email : emadabdelrahman749@gmail.com\n",
      "\n",
      "ID : 2\n",
      "Name : Ahmed\n",
      "Position : IT\n",
      "Salary : 17000\n",
      "Email : Ahmed70@gmail.com\n",
      "\n",
      "ID : 3\n",
      "Name : Mohamed\n",
      "Position : HR\n",
      "Salary : 20000\n",
      "Email : Mohamed@gmail.com\n",
      "\n",
      "ID : 4\n",
      "Name : youssef\n",
      "Position : HR\n",
      "Salary : 15000\n",
      "Email : youssef@gmail.com\n",
      "\n",
      "Please Choose one of the Following Options :\n",
      "1. Add Employee\n",
      "2. View All Employees\n",
      "3. Update Employee\n",
      "4. Delete Employee\n",
      "5. Search Employee\n",
      "6. Exit\n"
     ]
    },
    {
     "name": "stdin",
     "output_type": "stream",
     "text": [
      "Your choice:  4\n",
      "Enter ID of Employee to delete 4\n"
     ]
    },
    {
     "name": "stdout",
     "output_type": "stream",
     "text": [
      "User Deleted Successfully\n",
      "Please Choose one of the Following Options :\n",
      "1. Add Employee\n",
      "2. View All Employees\n",
      "3. Update Employee\n",
      "4. Delete Employee\n",
      "5. Search Employee\n",
      "6. Exit\n"
     ]
    },
    {
     "name": "stdin",
     "output_type": "stream",
     "text": [
      "Your choice:  5\n",
      "Enter ID of Employee to Search For 5\n"
     ]
    },
    {
     "name": "stdout",
     "output_type": "stream",
     "text": [
      "\n",
      "\n",
      "\n",
      "No such id\n",
      "Please Choose one of the Following Options :\n",
      "1. Add Employee\n",
      "2. View All Employees\n",
      "3. Update Employee\n",
      "4. Delete Employee\n",
      "5. Search Employee\n",
      "6. Exit\n"
     ]
    },
    {
     "name": "stdin",
     "output_type": "stream",
     "text": [
      "Your choice:  4\n",
      "Enter ID of Employee to delete 5\n"
     ]
    },
    {
     "name": "stdout",
     "output_type": "stream",
     "text": [
      "no such id\n",
      "User Deleted Successfully\n",
      "Please Choose one of the Following Options :\n",
      "1. Add Employee\n",
      "2. View All Employees\n",
      "3. Update Employee\n",
      "4. Delete Employee\n",
      "5. Search Employee\n",
      "6. Exit\n"
     ]
    },
    {
     "name": "stdin",
     "output_type": "stream",
     "text": [
      "Your choice:  4\n",
      "Enter ID of Employee to delete 6\n"
     ]
    },
    {
     "name": "stdout",
     "output_type": "stream",
     "text": [
      "no such id\n",
      "User Deleted Successfully\n",
      "Please Choose one of the Following Options :\n",
      "1. Add Employee\n",
      "2. View All Employees\n",
      "3. Update Employee\n",
      "4. Delete Employee\n",
      "5. Search Employee\n",
      "6. Exit\n"
     ]
    },
    {
     "name": "stdin",
     "output_type": "stream",
     "text": [
      "Your choice:  3\n",
      "Please Enter Employee id 5\n"
     ]
    },
    {
     "name": "stdout",
     "output_type": "stream",
     "text": [
      "no such ID\n"
     ]
    },
    {
     "name": "stdin",
     "output_type": "stream",
     "text": [
      "Please Enter Employee id 6\n"
     ]
    },
    {
     "name": "stdout",
     "output_type": "stream",
     "text": [
      "no such ID\n"
     ]
    },
    {
     "name": "stdin",
     "output_type": "stream",
     "text": [
      "Please Enter Employee id 1\n",
      "Please Enter Employee name \n",
      "Please Enter Employee Position \n",
      "Please Enter Employee Salary \n",
      "Please Enter Employee Email \n"
     ]
    },
    {
     "name": "stdout",
     "output_type": "stream",
     "text": [
      "User updated Successfully\n",
      "Please Choose one of the Following Options :\n",
      "1. Add Employee\n",
      "2. View All Employees\n",
      "3. Update Employee\n",
      "4. Delete Employee\n",
      "5. Search Employee\n",
      "6. Exit\n"
     ]
    },
    {
     "name": "stdin",
     "output_type": "stream",
     "text": [
      "Your choice:  2\n"
     ]
    },
    {
     "name": "stdout",
     "output_type": "stream",
     "text": [
      "ID : 1\n",
      "Name : Abdelrahman Emad\n",
      "Position : Data Scientist\n",
      "Salary : 30000\n",
      "Email : emadabdelrahman749@gmail.com\n",
      "\n",
      "ID : 2\n",
      "Name : Ahmed\n",
      "Position : IT\n",
      "Salary : 17000\n",
      "Email : Ahmed70@gmail.com\n",
      "\n",
      "ID : 3\n",
      "Name : Mohamed\n",
      "Position : HR\n",
      "Salary : 20000\n",
      "Email : Mohamed@gmail.com\n",
      "\n",
      "Please Choose one of the Following Options :\n",
      "1. Add Employee\n",
      "2. View All Employees\n",
      "3. Update Employee\n",
      "4. Delete Employee\n",
      "5. Search Employee\n",
      "6. Exit\n"
     ]
    },
    {
     "name": "stdin",
     "output_type": "stream",
     "text": [
      "Your choice:  3\n",
      "Please Enter Employee id 1\n",
      "Please Enter Employee name \n",
      "Please Enter Employee Position \n",
      "Please Enter Employee Salary 50000\n",
      "Please Enter Employee Email \n"
     ]
    },
    {
     "name": "stdout",
     "output_type": "stream",
     "text": [
      "User updated Successfully\n",
      "Please Choose one of the Following Options :\n",
      "1. Add Employee\n",
      "2. View All Employees\n",
      "3. Update Employee\n",
      "4. Delete Employee\n",
      "5. Search Employee\n",
      "6. Exit\n"
     ]
    },
    {
     "name": "stdin",
     "output_type": "stream",
     "text": [
      "Your choice:  2\n"
     ]
    },
    {
     "name": "stdout",
     "output_type": "stream",
     "text": [
      "ID : 1\n",
      "Name : Abdelrahman Emad\n",
      "Position : Data Scientist\n",
      "Salary : 50000\n",
      "Email : emadabdelrahman749@gmail.com\n",
      "\n",
      "ID : 2\n",
      "Name : Ahmed\n",
      "Position : IT\n",
      "Salary : 17000\n",
      "Email : Ahmed70@gmail.com\n",
      "\n",
      "ID : 3\n",
      "Name : Mohamed\n",
      "Position : HR\n",
      "Salary : 20000\n",
      "Email : Mohamed@gmail.com\n",
      "\n",
      "Please Choose one of the Following Options :\n",
      "1. Add Employee\n",
      "2. View All Employees\n",
      "3. Update Employee\n",
      "4. Delete Employee\n",
      "5. Search Employee\n",
      "6. Exit\n"
     ]
    },
    {
     "name": "stdin",
     "output_type": "stream",
     "text": [
      "Your choice:  6\n"
     ]
    },
    {
     "name": "stdout",
     "output_type": "stream",
     "text": [
      "Thanks For Using Our Program\n"
     ]
    }
   ],
   "source": [
    "Title=\"----------------------Welcome to My Employee Management System------------------------\"\n",
    "print(Title.title())\n",
    "company1 = EmployeeManager(\"Employees.csv\")\n",
    "while True :\n",
    "    print(\"Please Choose one of the Following Options :\\n1. Add Employee\\n2. View All Employees\\n3. Update Employee\\n4. Delete Employee\\n5. Search Employee\\n6. Exit\")\n",
    "    try:\n",
    "        choice = int(input(\"Your choice: \"))\n",
    "    except:\n",
    "        print(\"Invalid input, please enter a number\")\n",
    "        continue\n",
    "\n",
    "    if choice==1:\n",
    "        company1.addEmployee()        \n",
    "    elif choice==2:\n",
    "        company1.viewEmployees()\n",
    "    elif choice==3:\n",
    "        company1.UpdateEmployee()\n",
    "    elif choice==4:\n",
    "        company1.DeleteEmployee()\n",
    "    elif choice==5:\n",
    "        company1.SearchEmployee()\n",
    "    elif choice==6:\n",
    "        thank=\"Thanks for using our Program\"\n",
    "        print(thank.title())\n",
    "        break\n",
    "    else:\n",
    "        print(\"invalid input ,Please choose from the options\")\n"
   ]
  },
  {
   "cell_type": "code",
   "execution_count": null,
   "id": "390244c4-16ac-42e0-9fa2-f89823ef6a40",
   "metadata": {},
   "outputs": [],
   "source": []
  },
  {
   "cell_type": "code",
   "execution_count": null,
   "id": "a4e86647-20e7-498a-911f-52c50e90ef91",
   "metadata": {},
   "outputs": [],
   "source": []
  },
  {
   "cell_type": "code",
   "execution_count": null,
   "id": "ffcd4b53-a2d4-485e-a322-6409015992a3",
   "metadata": {},
   "outputs": [],
   "source": []
  },
  {
   "cell_type": "code",
   "execution_count": null,
   "id": "f859e0ac-4bfd-426a-a8f8-de657511d2e5",
   "metadata": {},
   "outputs": [],
   "source": []
  }
 ],
 "metadata": {
  "kernelspec": {
   "display_name": "Python 3 (ipykernel)",
   "language": "python",
   "name": "python3"
  },
  "language_info": {
   "codemirror_mode": {
    "name": "ipython",
    "version": 3
   },
   "file_extension": ".py",
   "mimetype": "text/x-python",
   "name": "python",
   "nbconvert_exporter": "python",
   "pygments_lexer": "ipython3",
   "version": "3.13.5"
  }
 },
 "nbformat": 4,
 "nbformat_minor": 5
}
